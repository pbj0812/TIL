{
 "cells": [
  {
   "cell_type": "code",
   "execution_count": 1,
   "metadata": {},
   "outputs": [],
   "source": [
    "from glob import glob\n",
    "import numpy as np\n",
    "from PIL import Image\n",
    "import os\n",
    "import sys\n",
    "import matplotlib.pyplot as plt"
   ]
  },
  {
   "cell_type": "code",
   "execution_count": 4,
   "metadata": {},
   "outputs": [],
   "source": [
    "png_files = glob(os.path.join('/Users/admin/Desktop/jump2python/image/',\"*.png\"))"
   ]
  },
  {
   "cell_type": "code",
   "execution_count": 36,
   "metadata": {},
   "outputs": [
    {
     "name": "stdout",
     "output_type": "stream",
     "text": [
      "['/Users/admin/Desktop/jump2python/image/0000000000.png', '/Users/admin/Desktop/jump2python/image/0000000001.png', '/Users/admin/Desktop/jump2python/image/0000000002.png']\n"
     ]
    }
   ],
   "source": [
    "print(png_files)"
   ]
  },
  {
   "cell_type": "code",
   "execution_count": 37,
   "metadata": {},
   "outputs": [
    {
     "name": "stdout",
     "output_type": "stream",
     "text": [
      "3\n"
     ]
    }
   ],
   "source": [
    "print(len(png_files))"
   ]
  },
  {
   "cell_type": "code",
   "execution_count": 56,
   "metadata": {},
   "outputs": [
    {
     "name": "stdout",
     "output_type": "stream",
     "text": [
      "/Users/admin/Desktop/jump2python/image/0000000000.png\n",
      "(1242, 375)\n",
      "(60, 36)\n",
      "/Users/admin/Desktop/jump2python/image/crop/0.png\n",
      "/Users/admin/Desktop/jump2python/image/0000000001.png\n",
      "(1242, 375)\n",
      "(60, 36)\n",
      "/Users/admin/Desktop/jump2python/image/crop/1.png\n",
      "/Users/admin/Desktop/jump2python/image/0000000002.png\n",
      "(1242, 375)\n",
      "(60, 36)\n",
      "/Users/admin/Desktop/jump2python/image/crop/2.png\n"
     ]
    }
   ],
   "source": [
    "for i in range(len(png_files)):\n",
    "    print(png_files[i])\n",
    "    im = Image.open(png_files[i]) # open image\n",
    "    print(im.size)\n",
    "    im_w, im_h = im.size\n",
    "    im = im.crop((300,0,900,im_h+1)) # crop image\n",
    "    im = im.resize((60, 36)) # resize image\n",
    "    #im2 = plt.imread(png_files[i]) # open image to array\n",
    "    print(im.size) # check image size\n",
    "    save_file = '/Users/admin/Desktop/jump2python/image/crop/'+str(i)+\".png\"\n",
    "    print(save_file)\n",
    "    im.save(save_file) # save image"
   ]
  },
  {
   "cell_type": "code",
   "execution_count": 34,
   "metadata": {},
   "outputs": [
    {
     "name": "stdout",
     "output_type": "stream",
     "text": [
      "(375, 1242, 3)\n"
     ]
    }
   ],
   "source": [
    "\n",
    "\n",
    "\n",
    "\n",
    "\n",
    "print(im2.shape)"
   ]
  },
  {
   "cell_type": "code",
   "execution_count": null,
   "metadata": {},
   "outputs": [],
   "source": []
  }
 ],
 "metadata": {
  "kernelspec": {
   "display_name": "Python 3",
   "language": "python",
   "name": "python3"
  },
  "language_info": {
   "codemirror_mode": {
    "name": "ipython",
    "version": 3
   },
   "file_extension": ".py",
   "mimetype": "text/x-python",
   "name": "python",
   "nbconvert_exporter": "python",
   "pygments_lexer": "ipython3",
   "version": "3.6.4"
  }
 },
 "nbformat": 4,
 "nbformat_minor": 2
}
