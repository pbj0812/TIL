{
 "cells": [
  {
   "cell_type": "code",
   "execution_count": 1,
   "metadata": {},
   "outputs": [],
   "source": [
    "data <- read.csv(\"E:/source_code/R/all_factor.csv\") # read 2017 data"
   ]
  },
  {
   "cell_type": "code",
   "execution_count": 2,
   "metadata": {},
   "outputs": [],
   "source": [
    "data_all <- data[which(data$datetime==201706010000):which(data$datetime==201708312257),] # crop "
   ]
  },
  {
   "cell_type": "code",
   "execution_count": 3,
   "metadata": {},
   "outputs": [],
   "source": [
    "date_all <- as.character(data_all$datetime) # number to character"
   ]
  },
  {
   "cell_type": "code",
   "execution_count": 4,
   "metadata": {},
   "outputs": [
    {
     "data": {
      "text/html": [
       "<ol class=list-inline>\n",
       "\t<li>'201706010000'</li>\n",
       "\t<li>'201706010006'</li>\n",
       "\t<li>'201706010009'</li>\n",
       "\t<li>'201706010015'</li>\n",
       "\t<li>'201706010021'</li>\n",
       "\t<li>'201706010027'</li>\n",
       "</ol>\n"
      ],
      "text/latex": [
       "\\begin{enumerate*}\n",
       "\\item '201706010000'\n",
       "\\item '201706010006'\n",
       "\\item '201706010009'\n",
       "\\item '201706010015'\n",
       "\\item '201706010021'\n",
       "\\item '201706010027'\n",
       "\\end{enumerate*}\n"
      ],
      "text/markdown": [
       "1. '201706010000'\n",
       "2. '201706010006'\n",
       "3. '201706010009'\n",
       "4. '201706010015'\n",
       "5. '201706010021'\n",
       "6. '201706010027'\n",
       "\n",
       "\n"
      ],
      "text/plain": [
       "[1] \"201706010000\" \"201706010006\" \"201706010009\" \"201706010015\" \"201706010021\"\n",
       "[6] \"201706010027\""
      ]
     },
     "metadata": {},
     "output_type": "display_data"
    }
   ],
   "source": [
    "head(date_all)"
   ]
  },
  {
   "cell_type": "code",
   "execution_count": 5,
   "metadata": {},
   "outputs": [],
   "source": [
    "library(stringr)"
   ]
  },
  {
   "cell_type": "code",
   "execution_count": 7,
   "metadata": {},
   "outputs": [
    {
     "data": {
      "text/html": [
       "<ol class=list-inline>\n",
       "\t<li>'2017060100'</li>\n",
       "\t<li>'2017060100'</li>\n",
       "\t<li>'2017060100'</li>\n",
       "\t<li>'2017060100'</li>\n",
       "\t<li>'2017060100'</li>\n",
       "\t<li>'2017060100'</li>\n",
       "</ol>\n"
      ],
      "text/latex": [
       "\\begin{enumerate*}\n",
       "\\item '2017060100'\n",
       "\\item '2017060100'\n",
       "\\item '2017060100'\n",
       "\\item '2017060100'\n",
       "\\item '2017060100'\n",
       "\\item '2017060100'\n",
       "\\end{enumerate*}\n"
      ],
      "text/markdown": [
       "1. '2017060100'\n",
       "2. '2017060100'\n",
       "3. '2017060100'\n",
       "4. '2017060100'\n",
       "5. '2017060100'\n",
       "6. '2017060100'\n",
       "\n",
       "\n"
      ],
      "text/plain": [
       "[1] \"2017060100\" \"2017060100\" \"2017060100\" \"2017060100\" \"2017060100\"\n",
       "[6] \"2017060100\""
      ]
     },
     "metadata": {},
     "output_type": "display_data"
    }
   ],
   "source": [
    "ymdh <- str_sub(date_all, 1, 10) # 문자 자르기\n",
    "head(ymdh) "
   ]
  }
 ],
 "metadata": {
  "kernelspec": {
   "display_name": "R",
   "language": "R",
   "name": "ir"
  },
  "language_info": {
   "codemirror_mode": "r",
   "file_extension": ".r",
   "mimetype": "text/x-r-source",
   "name": "R",
   "pygments_lexer": "r",
   "version": "3.4.3"
  }
 },
 "nbformat": 4,
 "nbformat_minor": 2
}
