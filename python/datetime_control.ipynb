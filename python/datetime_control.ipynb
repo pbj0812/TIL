{
 "cells": [
  {
   "cell_type": "code",
   "execution_count": 1,
   "metadata": {},
   "outputs": [
    {
     "data": {
      "text/plain": [
       "datetime.datetime(2018, 10, 10, 15, 2, 56, 136947)"
      ]
     },
     "execution_count": 1,
     "metadata": {},
     "output_type": "execute_result"
    }
   ],
   "source": [
    "import datetime\n",
    "datetime.datetime.now()"
   ]
  },
  {
   "cell_type": "code",
   "execution_count": 2,
   "metadata": {},
   "outputs": [
    {
     "data": {
      "text/plain": [
       "(2018, 10, 10)"
      ]
     },
     "execution_count": 2,
     "metadata": {},
     "output_type": "execute_result"
    }
   ],
   "source": [
    "# import time\n",
    "now = datetime.datetime.now()\n",
    "now.year, now.month, now.day"
   ]
  },
  {
   "cell_type": "code",
   "execution_count": 3,
   "metadata": {},
   "outputs": [
    {
     "data": {
      "text/plain": [
       "(15, 3, 49)"
      ]
     },
     "execution_count": 3,
     "metadata": {},
     "output_type": "execute_result"
    }
   ],
   "source": [
    "now.hour, now.minute, now.second"
   ]
  },
  {
   "cell_type": "code",
   "execution_count": 35,
   "metadata": {},
   "outputs": [
    {
     "data": {
      "text/plain": [
       "(2018, 4, 1)"
      ]
     },
     "execution_count": 35,
     "metadata": {},
     "output_type": "execute_result"
    }
   ],
   "source": [
    "# import special day time\n",
    "pre = datetime.datetime(2018, 4, 1)\n",
    "pre.year, pre.month, pre.day"
   ]
  },
  {
   "cell_type": "code",
   "execution_count": 5,
   "metadata": {},
   "outputs": [
    {
     "data": {
      "text/plain": [
       "True"
      ]
     },
     "execution_count": 5,
     "metadata": {},
     "output_type": "execute_result"
    }
   ],
   "source": [
    "# compare time\n",
    "now > pre"
   ]
  },
  {
   "cell_type": "code",
   "execution_count": 17,
   "metadata": {},
   "outputs": [],
   "source": [
    "# minus test\n",
    "pre1 = datetime.datetime(2018, 11, 30)\n",
    "pre2 = datetime.datetime(2018, 10, 10)\n",
    "diff_pre = pre1 - pre2"
   ]
  },
  {
   "cell_type": "code",
   "execution_count": 18,
   "metadata": {},
   "outputs": [
    {
     "name": "stdout",
     "output_type": "stream",
     "text": [
      "51 days, 0:00:00\n"
     ]
    }
   ],
   "source": [
    "print(diff_pre)"
   ]
  },
  {
   "cell_type": "code",
   "execution_count": 20,
   "metadata": {},
   "outputs": [
    {
     "name": "stdout",
     "output_type": "stream",
     "text": [
      "51 days, 0:00:00\n"
     ]
    }
   ],
   "source": [
    "str_diff = str(diff_pre)\n",
    "print(str_diff)"
   ]
  },
  {
   "cell_type": "code",
   "execution_count": null,
   "metadata": {},
   "outputs": [],
   "source": [
    "# 1) str split"
   ]
  },
  {
   "cell_type": "code",
   "execution_count": 33,
   "metadata": {},
   "outputs": [
    {
     "name": "stdout",
     "output_type": "stream",
     "text": [
      "51\n"
     ]
    }
   ],
   "source": [
    "diff_result = str_diff.split()[0]\n",
    "print(diff_result)"
   ]
  },
  {
   "cell_type": "code",
   "execution_count": null,
   "metadata": {},
   "outputs": [],
   "source": [
    "# 2) str2list"
   ]
  },
  {
   "cell_type": "code",
   "execution_count": 22,
   "metadata": {},
   "outputs": [
    {
     "name": "stdout",
     "output_type": "stream",
     "text": [
      "['5', '1', ' ', 'd', 'a', 'y', 's', ',', ' ', '0', ':', '0', '0', ':', '0', '0']\n"
     ]
    }
   ],
   "source": [
    "list_diff = list(str_diff)\n",
    "print(list_diff)"
   ]
  },
  {
   "cell_type": "code",
   "execution_count": 24,
   "metadata": {},
   "outputs": [
    {
     "name": "stdout",
     "output_type": "stream",
     "text": [
      "['5', '1']\n"
     ]
    }
   ],
   "source": [
    "int_diff = list_diff[:-14]\n",
    "print(int_diff)"
   ]
  },
  {
   "cell_type": "code",
   "execution_count": 30,
   "metadata": {},
   "outputs": [
    {
     "name": "stdout",
     "output_type": "stream",
     "text": [
      "51\n"
     ]
    }
   ],
   "source": [
    "join_diff = \"\".join(int_diff)\n",
    "print(join_diff)"
   ]
  },
  {
   "cell_type": "code",
   "execution_count": 59,
   "metadata": {},
   "outputs": [
    {
     "name": "stdout",
     "output_type": "stream",
     "text": [
      "20120101.0\n",
      "20120101\n",
      "20120101\n",
      "['2', '0', '1', '2', '0', '1', '0', '1']\n",
      "['2', '0', '1', '2']\n",
      "2012\n",
      "2012\n",
      "['0', '1']\n",
      "01\n",
      "1\n",
      "['0', '1']\n",
      "01\n",
      "1\n"
     ]
    }
   ],
   "source": [
    "# pre str2date\n",
    "\n",
    "today = '20120101.0'\n",
    "today = float(today)\n",
    "print(today)\n",
    "\n",
    "today = int(today)\n",
    "print(today)\n",
    "\n",
    "today = str(today)\n",
    "print(today)\n",
    "\n",
    "today = list(today)\n",
    "print(today)\n",
    "\n",
    "year = today[:4]\n",
    "print(year)\n",
    "year = \"\".join(year)\n",
    "print(year)\n",
    "year = int(year)\n",
    "print(year)\n",
    "\n",
    "month = today[4:6]\n",
    "print(month)\n",
    "month = \"\".join(month)\n",
    "print(month)\n",
    "month = int(month)\n",
    "print(month)\n",
    "\n",
    "day = today[6:8]\n",
    "print(day)\n",
    "day = \"\".join(day)\n",
    "print(day)\n",
    "day = int(day)\n",
    "print(day)"
   ]
  },
  {
   "cell_type": "code",
   "execution_count": 62,
   "metadata": {},
   "outputs": [
    {
     "name": "stdout",
     "output_type": "stream",
     "text": [
      "1 day, 0:00:00\n"
     ]
    }
   ],
   "source": [
    "today = datetime.datetime(year, month, day+1)\n",
    "yesterday = datetime.datetime(year, month, day)\n",
    "diff = today - yesterday\n",
    "print(diff)"
   ]
  },
  {
   "cell_type": "code",
   "execution_count": null,
   "metadata": {},
   "outputs": [],
   "source": []
  }
 ],
 "metadata": {
  "kernelspec": {
   "display_name": "Python 3",
   "language": "python",
   "name": "python3"
  },
  "language_info": {
   "codemirror_mode": {
    "name": "ipython",
    "version": 3
   },
   "file_extension": ".py",
   "mimetype": "text/x-python",
   "name": "python",
   "nbconvert_exporter": "python",
   "pygments_lexer": "ipython3",
   "version": "3.6.4"
  }
 },
 "nbformat": 4,
 "nbformat_minor": 2
}
