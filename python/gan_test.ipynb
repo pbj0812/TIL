{
 "cells": [
  {
   "cell_type": "code",
   "execution_count": 1,
   "metadata": {},
   "outputs": [
    {
     "name": "stderr",
     "output_type": "stream",
     "text": [
      "/Users/admin/anaconda3/lib/python3.6/site-packages/h5py/__init__.py:36: FutureWarning: Conversion of the second argument of issubdtype from `float` to `np.floating` is deprecated. In future, it will be treated as `np.float64 == np.dtype(float).type`.\n",
      "  from ._conv import register_converters as _register_converters\n"
     ]
    }
   ],
   "source": [
    "import tensorflow as tf\n",
    "import matplotlib.pyplot as plt\n",
    "import numpy as np"
   ]
  },
  {
   "cell_type": "code",
   "execution_count": 4,
   "metadata": {},
   "outputs": [
    {
     "name": "stdout",
     "output_type": "stream",
     "text": [
      "WARNING:tensorflow:From <ipython-input-4-064a0552c5bb>:2: read_data_sets (from tensorflow.contrib.learn.python.learn.datasets.mnist) is deprecated and will be removed in a future version.\n",
      "Instructions for updating:\n",
      "Please use alternatives such as official/mnist/dataset.py from tensorflow/models.\n",
      "WARNING:tensorflow:From /Users/admin/anaconda3/lib/python3.6/site-packages/tensorflow/contrib/learn/python/learn/datasets/mnist.py:260: maybe_download (from tensorflow.contrib.learn.python.learn.datasets.base) is deprecated and will be removed in a future version.\n",
      "Instructions for updating:\n",
      "Please write your own downloading logic.\n",
      "WARNING:tensorflow:From /Users/admin/anaconda3/lib/python3.6/site-packages/tensorflow/contrib/learn/python/learn/datasets/mnist.py:262: extract_images (from tensorflow.contrib.learn.python.learn.datasets.mnist) is deprecated and will be removed in a future version.\n",
      "Instructions for updating:\n",
      "Please use tf.data to implement this functionality.\n",
      "Extracting ./mnist/data/train-images-idx3-ubyte.gz\n",
      "WARNING:tensorflow:From /Users/admin/anaconda3/lib/python3.6/site-packages/tensorflow/contrib/learn/python/learn/datasets/mnist.py:267: extract_labels (from tensorflow.contrib.learn.python.learn.datasets.mnist) is deprecated and will be removed in a future version.\n",
      "Instructions for updating:\n",
      "Please use tf.data to implement this functionality.\n",
      "Extracting ./mnist/data/train-labels-idx1-ubyte.gz\n",
      "WARNING:tensorflow:From /Users/admin/anaconda3/lib/python3.6/site-packages/tensorflow/contrib/learn/python/learn/datasets/mnist.py:110: dense_to_one_hot (from tensorflow.contrib.learn.python.learn.datasets.mnist) is deprecated and will be removed in a future version.\n",
      "Instructions for updating:\n",
      "Please use tf.one_hot on tensors.\n",
      "Extracting ./mnist/data/t10k-images-idx3-ubyte.gz\n",
      "Extracting ./mnist/data/t10k-labels-idx1-ubyte.gz\n",
      "WARNING:tensorflow:From /Users/admin/anaconda3/lib/python3.6/site-packages/tensorflow/contrib/learn/python/learn/datasets/mnist.py:290: DataSet.__init__ (from tensorflow.contrib.learn.python.learn.datasets.mnist) is deprecated and will be removed in a future version.\n",
      "Instructions for updating:\n",
      "Please use alternatives such as official/mnist/dataset.py from tensorflow/models.\n"
     ]
    }
   ],
   "source": [
    "from tensorflow.examples.tutorials.mnist import input_data\n",
    "mnist = input_data.read_data_sets(\"./mnist/data/\", one_hot = True)"
   ]
  },
  {
   "cell_type": "code",
   "execution_count": 5,
   "metadata": {},
   "outputs": [],
   "source": [
    "total_epoch = 100\n",
    "batch_size = 100\n",
    "learning_rate = 0.0002\n",
    "n_hidden = 256\n",
    "n_input = 28 * 28\n",
    "n_noise = 128"
   ]
  },
  {
   "cell_type": "code",
   "execution_count": 6,
   "metadata": {},
   "outputs": [],
   "source": [
    "X = tf.placeholder(tf.float32, [None, n_input])\n",
    "Z = tf.placeholder(tf.float32, [None, n_noise])"
   ]
  },
  {
   "cell_type": "code",
   "execution_count": 7,
   "metadata": {},
   "outputs": [],
   "source": [
    "G_W1 = tf.Variable(tf.random_normal([n_noise, n_hidden], stddev = 0.01))\n",
    "G_b1 = tf.Variable(tf.zeros([n_hidden]))\n",
    "G_W2 = tf.Variable(tf.random_normal([n_hidden, n_input], stddev = 0.01))\n",
    "G_b2 = tf.Variable(tf.zeros([n_input]))"
   ]
  },
  {
   "cell_type": "code",
   "execution_count": 8,
   "metadata": {},
   "outputs": [],
   "source": [
    "D_W1 = tf.Variable(tf.random_normal([n_input, n_hidden], stddev = 0.01))\n",
    "D_b1 = tf.Variable(tf.zeros([n_hidden]))\n",
    "D_W2 = tf.Variable(tf.random_normal([n_hidden, 1], stddev = 0.01))\n",
    "D_b2 = tf.Variable(tf.zeros([1]))"
   ]
  },
  {
   "cell_type": "code",
   "execution_count": 9,
   "metadata": {},
   "outputs": [],
   "source": [
    "def generator(noise_z):\n",
    "    hidden = tf.nn.relu(tf.matmul(noise_z, G_W1) + G_b1)\n",
    "    output = tf.nn.sigmoid(tf.matmul(hidden, G_W2) + G_b2)\n",
    "    return output"
   ]
  },
  {
   "cell_type": "code",
   "execution_count": 14,
   "metadata": {},
   "outputs": [],
   "source": [
    "def discriminator(inputs):\n",
    "    hidden = tf.nn.relu(tf.matmul(inputs, D_W1) + D_b1)\n",
    "    output = tf.nn.sigmoid(tf.matmul(hidden, D_W2) + D_b2)\n",
    "    return output"
   ]
  },
  {
   "cell_type": "code",
   "execution_count": 15,
   "metadata": {},
   "outputs": [],
   "source": [
    "def get_noise(batch_size, n_noise):\n",
    "    return np.random.normal(size = (batch_size, n_noise))"
   ]
  },
  {
   "cell_type": "code",
   "execution_count": 16,
   "metadata": {},
   "outputs": [],
   "source": [
    "G = generator(Z)\n",
    "D_gene = discriminator(G)\n",
    "D_real = discriminator(X)"
   ]
  },
  {
   "cell_type": "code",
   "execution_count": 18,
   "metadata": {},
   "outputs": [],
   "source": [
    "loss_D = tf.reduce_mean(tf.log(D_real) + tf.log(1 - D_gene))\n",
    "loss_G = tf.reduce_mean(tf.log(D_gene))"
   ]
  },
  {
   "cell_type": "code",
   "execution_count": 20,
   "metadata": {},
   "outputs": [],
   "source": [
    "D_var_list = [D_W1, D_b1, D_W2, D_b2]\n",
    "G_var_list = [G_W1, G_b1, G_W2, G_b2]"
   ]
  },
  {
   "cell_type": "code",
   "execution_count": 21,
   "metadata": {},
   "outputs": [],
   "source": [
    "train_D = tf.train.AdamOptimizer(learning_rate).minimize(-loss_D, var_list = D_var_list)\n",
    "train_G = tf.train.AdamOptimizer(learning_rate).minimize(-loss_G, var_list = G_var_list)"
   ]
  },
  {
   "cell_type": "code",
   "execution_count": 22,
   "metadata": {},
   "outputs": [],
   "source": [
    "sess = tf.Session()\n",
    "sess.run(tf.global_variables_initializer())"
   ]
  },
  {
   "cell_type": "code",
   "execution_count": 23,
   "metadata": {},
   "outputs": [],
   "source": [
    "total_batch = int(mnist.train.num_examples / batch_size)\n",
    "loss_val_D, loss_val_G = 0, 0"
   ]
  },
  {
   "cell_type": "code",
   "execution_count": null,
   "metadata": {},
   "outputs": [
    {
     "name": "stdout",
     "output_type": "stream",
     "text": [
      "epoch: 0000 D loss: -0.1803 G loss: -3.09\n",
      "epoch: 0001 D loss: -0.3833 G loss: -1.697\n",
      "epoch: 0002 D loss: -0.3959 G loss: -2.063\n",
      "epoch: 0003 D loss: -0.2491 G loss: -2.598\n",
      "epoch: 0004 D loss: -0.1297 G loss: -3.355\n",
      "epoch: 0005 D loss: -0.2349 G loss: -2.957\n",
      "epoch: 0006 D loss: -0.195 G loss: -3.415\n",
      "epoch: 0007 D loss: -0.214 G loss: -2.981\n",
      "epoch: 0008 D loss: -0.3591 G loss: -2.63\n",
      "epoch: 0009 D loss: -0.2957 G loss: -2.84\n",
      "epoch: 0010 D loss: -0.4768 G loss: -2.638\n",
      "epoch: 0011 D loss: -0.3874 G loss: -2.572\n",
      "epoch: 0012 D loss: -0.4647 G loss: -2.58\n",
      "epoch: 0013 D loss: -0.4099 G loss: -2.613\n",
      "epoch: 0014 D loss: -0.5415 G loss: -2.412\n",
      "epoch: 0015 D loss: -0.2955 G loss: -2.64\n",
      "epoch: 0016 D loss: -0.6409 G loss: -2.222\n",
      "epoch: 0017 D loss: -0.2806 G loss: -3.068\n",
      "epoch: 0018 D loss: -0.567 G loss: -2.365\n",
      "epoch: 0019 D loss: -0.3907 G loss: -2.528\n",
      "epoch: 0020 D loss: -0.6426 G loss: -2.421\n",
      "epoch: 0021 D loss: -0.3941 G loss: -2.478\n",
      "epoch: 0022 D loss: -0.4532 G loss: -2.376\n",
      "epoch: 0023 D loss: -0.3581 G loss: -2.872\n",
      "epoch: 0024 D loss: -0.5682 G loss: -2.205\n",
      "epoch: 0025 D loss: -0.4859 G loss: -2.316\n",
      "epoch: 0026 D loss: -0.5472 G loss: -2.306\n",
      "epoch: 0027 D loss: -0.4814 G loss: -2.572\n",
      "epoch: 0028 D loss: -0.5724 G loss: -2.389\n",
      "epoch: 0029 D loss: -0.4757 G loss: -2.534\n",
      "epoch: 0030 D loss: -0.5901 G loss: -2.378\n",
      "epoch: 0031 D loss: -0.5783 G loss: -2.277\n",
      "epoch: 0032 D loss: -0.5984 G loss: -2.383\n",
      "epoch: 0033 D loss: -0.4959 G loss: -2.421\n",
      "epoch: 0034 D loss: -0.6029 G loss: -2.184\n",
      "epoch: 0035 D loss: -0.6235 G loss: -2.263\n",
      "epoch: 0036 D loss: -0.5115 G loss: -2.499\n",
      "epoch: 0037 D loss: -0.7399 G loss: -2.261\n",
      "epoch: 0038 D loss: -0.677 G loss: -2.192\n",
      "epoch: 0039 D loss: -0.4148 G loss: -2.293\n",
      "epoch: 0040 D loss: -0.6928 G loss: -2.008\n",
      "epoch: 0041 D loss: -0.7939 G loss: -1.761\n",
      "epoch: 0042 D loss: -0.5427 G loss: -2.371\n",
      "epoch: 0043 D loss: -0.5861 G loss: -2.311\n",
      "epoch: 0044 D loss: -0.6884 G loss: -2.079\n",
      "epoch: 0045 D loss: -0.6937 G loss: -2.12\n",
      "epoch: 0046 D loss: -0.7952 G loss: -2.114\n",
      "epoch: 0047 D loss: -0.606 G loss: -2.488\n",
      "epoch: 0048 D loss: -0.6519 G loss: -1.95\n",
      "epoch: 0049 D loss: -0.6558 G loss: -2.004\n",
      "epoch: 0050 D loss: -0.8186 G loss: -2.056\n",
      "epoch: 0051 D loss: -0.6411 G loss: -2.018\n",
      "epoch: 0052 D loss: -0.7026 G loss: -1.837\n",
      "epoch: 0053 D loss: -0.7765 G loss: -1.875\n",
      "epoch: 0054 D loss: -0.7996 G loss: -2.116\n",
      "epoch: 0055 D loss: -0.8055 G loss: -2.083\n",
      "epoch: 0056 D loss: -0.6903 G loss: -2.132\n",
      "epoch: 0057 D loss: -0.7555 G loss: -1.883\n",
      "epoch: 0058 D loss: -0.8448 G loss: -1.989\n",
      "epoch: 0059 D loss: -0.6696 G loss: -1.959\n",
      "epoch: 0060 D loss: -0.698 G loss: -1.823\n"
     ]
    }
   ],
   "source": [
    "for epoch in range(total_epoch):\n",
    "    for i in range(total_batch):\n",
    "        batch_xs, batch_ys = mnist.train.next_batch(batch_size)\n",
    "        noise = get_noise(batch_size, n_noise)\n",
    "        \n",
    "        _, loss_val_D = sess.run([train_D, loss_D], feed_dict = {X:batch_xs, Z:noise})\n",
    "        _, loss_val_G = sess.run([train_G, loss_G], feed_dict = {Z:noise})\n",
    "        \n",
    "    print('epoch:', '%04d' % epoch,\n",
    "         'D loss: {:.4}'.format(loss_val_D),\n",
    "         'G loss: {:.4}'.format(loss_val_G))\n",
    "    \n",
    "    if epoch == 0 or (epoch + 1) % 10 == 0:\n",
    "        sample_size = 10\n",
    "        noise = get_noise(sample_size, n_noise)\n",
    "        samples = sess.run(G, feed_dict = {Z:noise})\n",
    "        \n",
    "        fig, ax = plt.subplots(1, sample_size, figsize = (sample_size, 1))\n",
    "        \n",
    "        for i in range(sample_size):\n",
    "            ax[i].set_axis_off()\n",
    "            ax[i].imshow(np.reshape(samples[i], (28, 28)))\n",
    "            \n",
    "        plt.savefig('sample/{}.png'.format(str(epoch).zfill(3)), bbox_inches = 'tight')\n",
    "        plt.close(fig)\n",
    "        \n",
    "print('complete')"
   ]
  },
  {
   "cell_type": "code",
   "execution_count": null,
   "metadata": {},
   "outputs": [],
   "source": []
  }
 ],
 "metadata": {
  "kernelspec": {
   "display_name": "Python 3",
   "language": "python",
   "name": "python3"
  },
  "language_info": {
   "codemirror_mode": {
    "name": "ipython",
    "version": 3
   },
   "file_extension": ".py",
   "mimetype": "text/x-python",
   "name": "python",
   "nbconvert_exporter": "python",
   "pygments_lexer": "ipython3",
   "version": "3.6.4"
  }
 },
 "nbformat": 4,
 "nbformat_minor": 2
}
