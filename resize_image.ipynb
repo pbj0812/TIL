{
 "cells": [
  {
   "cell_type": "code",
   "execution_count": 2,
   "metadata": {},
   "outputs": [
    {
     "name": "stdout",
     "output_type": "stream",
     "text": [
      "(265, 190)\n"
     ]
    }
   ],
   "source": [
    "from PIL import Image\n",
    "\n",
    "# open image\n",
    "im = Image.open('book1.jpg')\n",
    "\n",
    "# write image's size\n",
    "print(im.size)\n",
    "\n",
    "# image to JPG\n",
    "im.save('book1_sample.jpg')"
   ]
  },
  {
   "cell_type": "code",
   "execution_count": 7,
   "metadata": {},
   "outputs": [
    {
     "name": "stdout",
     "output_type": "stream",
     "text": [
      "(28, 28)\n",
      "(28, 20)\n"
     ]
    }
   ],
   "source": [
    "from PIL import Image\n",
    "\n",
    "im = Image.open('book1.jpg')\n",
    "\n",
    "# resize image\n",
    "new_im = im.resize((28,28))\n",
    "print(new_im.size)\n",
    "\n",
    "new_im.save('book1_resize.jpg')\n",
    "\n",
    "# make Thumbnail image\n",
    "size = (28, 28) # max\n",
    "im.thumbnail(size)\n",
    "\n",
    "im.save('book1_thumb.jpg')\n",
    "\n",
    "print(im.size)"
   ]
  },
  {
   "cell_type": "code",
   "execution_count": null,
   "metadata": {},
   "outputs": [],
   "source": []
  }
 ],
 "metadata": {
  "kernelspec": {
   "display_name": "Python 3",
   "language": "python",
   "name": "python3"
  },
  "language_info": {
   "codemirror_mode": {
    "name": "ipython",
    "version": 3
   },
   "file_extension": ".py",
   "mimetype": "text/x-python",
   "name": "python",
   "nbconvert_exporter": "python",
   "pygments_lexer": "ipython3",
   "version": "3.6.4"
  }
 },
 "nbformat": 4,
 "nbformat_minor": 2
}
