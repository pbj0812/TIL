{
 "cells": [
  {
   "cell_type": "code",
   "execution_count": 1,
   "metadata": {},
   "outputs": [
    {
     "name": "stdout",
     "output_type": "stream",
     "text": [
      "10\n",
      "9\n",
      "8\n",
      "7\n",
      "6\n"
     ]
    }
   ],
   "source": [
    "x=10\n",
    "\n",
    "while x>5:\n",
    "    print(x)\n",
    "    x=x-1\n",
    "    \n",
    "if x<5:\n",
    "    print(\"x is smaller than 5\")"
   ]
  },
  {
   "cell_type": "code",
   "execution_count": 2,
   "metadata": {},
   "outputs": [
    {
     "name": "stdout",
     "output_type": "stream",
     "text": [
      "hello world\n"
     ]
    }
   ],
   "source": [
    "print('hello world')"
   ]
  },
  {
   "cell_type": "code",
   "execution_count": 3,
   "metadata": {},
   "outputs": [
    {
     "name": "stdout",
     "output_type": "stream",
     "text": [
      "enter your name : hi\n",
      "Hello hi\n"
     ]
    }
   ],
   "source": [
    "nzt = input(\"enter your name : \")\n",
    "print(\"Hello\", nzt)"
   ]
  },
  {
   "cell_type": "code",
   "execution_count": 4,
   "metadata": {},
   "outputs": [
    {
     "name": "stdout",
     "output_type": "stream",
     "text": [
      "Bigger\n"
     ]
    }
   ],
   "source": [
    "x=11\n",
    "\n",
    "if x<10:\n",
    "    print('Smaller')\n",
    "else:\n",
    "     print('Bigger')   "
   ]
  },
  {
   "cell_type": "code",
   "execution_count": 6,
   "metadata": {
    "scrolled": true
   },
   "outputs": [
    {
     "name": "stdout",
     "output_type": "stream",
     "text": [
      "Ginomous\n"
     ]
    }
   ],
   "source": [
    "x = 21\n",
    "\n",
    "if x < 2:\n",
    "    print('Small')\n",
    "elif x < 10:\n",
    "    print('Medium')\n",
    "elif x < 20:\n",
    "    print('BIg')\n",
    "else:\n",
    "    print('Ginomous')"
   ]
  },
  {
   "cell_type": "code",
   "execution_count": 7,
   "metadata": {},
   "outputs": [
    {
     "name": "stdout",
     "output_type": "stream",
     "text": [
      "Hello\n",
      "World\n",
      "Done 123\n"
     ]
    }
   ],
   "source": [
    "astr = '123'\n",
    "\n",
    "try:\n",
    "    print('Hello')\n",
    "    islnt = int(astr)\n",
    "    print('World')\n",
    "except:\n",
    "    islnt = \"integer로 변환할 수 없습니다.\"\n",
    "    \n",
    "print('Done', islnt)"
   ]
  },
  {
   "cell_type": "code",
   "execution_count": 8,
   "metadata": {},
   "outputs": [
    {
     "name": "stdout",
     "output_type": "stream",
     "text": [
      "enter hours:1\n",
      "enter rate:2\n",
      "pay 2.0\n"
     ]
    }
   ],
   "source": [
    "sh = input('enter hours:')\n",
    "sr = input('enter rate:')\n",
    "fh = float(sh)\n",
    "fr = float(sr)\n",
    "\n",
    "if fh > 40:\n",
    "    reg = fr*fh\n",
    "    otp = (fh - 40.0) * (fr * 0.5)\n",
    "    xp = reg + otp\n",
    "else:\n",
    "    xp = fh * fr\n",
    "print(\"pay\", xp)"
   ]
  },
  {
   "cell_type": "code",
   "execution_count": 11,
   "metadata": {},
   "outputs": [
    {
     "name": "stdout",
     "output_type": "stream",
     "text": [
      "enter hours:d\n",
      "enter rate:g\n",
      "Error, please enter numeric input\n",
      "pay 1.0\n"
     ]
    }
   ],
   "source": [
    "sh = input('enter hours:')\n",
    "sr = input('enter rate:')\n",
    "\n",
    "try:\n",
    "    fh = float(sh)\n",
    "    fr = float(sr)\n",
    "except:\n",
    "    print(\"Error, please enter numeric input\")\n",
    "    quit()\n",
    "\n",
    "if fh > 40:\n",
    "    reg = fr*fh\n",
    "    otp = (fh - 40.0) * (fr * 0.5)\n",
    "    xp = reg + otp\n",
    "else:\n",
    "    xp = fh * fr\n",
    "print(\"pay\", xp)"
   ]
  },
  {
   "cell_type": "code",
   "execution_count": 2,
   "metadata": {},
   "outputs": [
    {
     "name": "stdout",
     "output_type": "stream",
     "text": [
      "Hello world\n"
     ]
    }
   ],
   "source": [
    "def greeting(lang):\n",
    "    print(lang)\n",
    "    \n",
    "greeting(\"Hello world\")"
   ]
  },
  {
   "cell_type": "code",
   "execution_count": 3,
   "metadata": {},
   "outputs": [
    {
     "name": "stdout",
     "output_type": "stream",
     "text": [
      "hello Connect\n",
      "hello Python\n"
     ]
    }
   ],
   "source": [
    "def greet():\n",
    "    return \"hello\"\n",
    "\n",
    "print(greet(), \"Connect\")\n",
    "print(greet(), \"Python\")"
   ]
  },
  {
   "cell_type": "code",
   "execution_count": 4,
   "metadata": {},
   "outputs": [
    {
     "name": "stdout",
     "output_type": "stream",
     "text": [
      "3\n"
     ]
    }
   ],
   "source": [
    "def add(left, right):\n",
    "    return left + right\n",
    "\n",
    "print(add(1, 2))"
   ]
  },
  {
   "cell_type": "code",
   "execution_count": 6,
   "metadata": {},
   "outputs": [
    {
     "name": "stdout",
     "output_type": "stream",
     "text": [
      "enter hours : 43\n",
      "enter rate : 5\n",
      "pay:  222.5\n"
     ]
    }
   ],
   "source": [
    "def computerpay(hours, rate):\n",
    "    if hours > 40:\n",
    "        reg = rate * hours\n",
    "        otp = (hours - 40.0) * (rate * 0.5)\n",
    "        pay = reg + otp\n",
    "    else:\n",
    "        pay = hours * rate\n",
    "    return pay\n",
    "\n",
    "sh = input(\"enter hours : \")\n",
    "sr = input(\"enter rate : \")\n",
    "fh = float(sh)\n",
    "fr = float(sr)\n",
    "\n",
    "xp = computerpay(fh, fr)\n",
    "\n",
    "print(\"pay: \", xp)"
   ]
  },
  {
   "cell_type": "code",
   "execution_count": 8,
   "metadata": {},
   "outputs": [
    {
     "name": "stdout",
     "output_type": "stream",
     "text": [
      ">#\n",
      ">$\n",
      "$\n",
      ">s\n",
      "s\n",
      ">#\n",
      ">a\n",
      "a\n",
      ">done\n",
      "Done!\n"
     ]
    }
   ],
   "source": [
    "while True:\n",
    "    line = input('>')\n",
    "    if line[0] == '#':\n",
    "        continue\n",
    "    if line == 'done':\n",
    "        break\n",
    "    print(line)\n",
    "print('Done!')"
   ]
  },
  {
   "cell_type": "code",
   "execution_count": 9,
   "metadata": {},
   "outputs": [
    {
     "name": "stdout",
     "output_type": "stream",
     "text": [
      "Happy New Year!! Connect\n",
      "Happy New Year!! Korea\n",
      "Happy New Year!! NHN\n",
      "Done!\n"
     ]
    }
   ],
   "source": [
    "friend = ['Connect', 'Korea', 'NHN']\n",
    "for friend in friend:\n",
    "    print('Happy New Year!!', friend)\n",
    "print('Done!')"
   ]
  },
  {
   "cell_type": "code",
   "execution_count": 10,
   "metadata": {},
   "outputs": [
    {
     "name": "stdout",
     "output_type": "stream",
     "text": [
      "Before -1\n",
      "largest_so_far. 9 current number: 9\n",
      "largest_so_far. 41 current number: 41\n",
      "largest_so_far. 41 current number: 12\n",
      "largest_so_far. 41 current number: 3\n",
      "largest_so_far. 74 current number: 74\n",
      "largest_so_far. 74 current number: 15\n",
      "After 74\n"
     ]
    }
   ],
   "source": [
    "largest_so_far = -1\n",
    "print('Before', largest_so_far)\n",
    "numbers = [9, 41, 12, 3, 74, 15]\n",
    "for the_num in numbers:\n",
    "    if the_num > largest_so_far:\n",
    "        largest_so_far = the_num\n",
    "    print('largest_so_far.', largest_so_far, 'current number:', the_num)\n",
    "\n",
    "print('After', largest_so_far)"
   ]
  },
  {
   "cell_type": "code",
   "execution_count": 12,
   "metadata": {},
   "outputs": [
    {
     "name": "stdout",
     "output_type": "stream",
     "text": [
      "Before\n",
      "9 9\n",
      "9 41\n",
      "9 12\n",
      "3 3\n",
      "3 74\n",
      "3 15\n",
      "After 3\n"
     ]
    }
   ],
   "source": [
    "smallest = None\n",
    "print('Before')\n",
    "numbers = [9, 41, 12, 3, 74, 15]\n",
    "for value in numbers:\n",
    "    if smallest is None:\n",
    "        smallest = value\n",
    "    elif value < smallest:\n",
    "        smallest = value\n",
    "    print(smallest, value)\n",
    "print('After', smallest)"
   ]
  },
  {
   "cell_type": "code",
   "execution_count": 13,
   "metadata": {},
   "outputs": [
    {
     "name": "stdout",
     "output_type": "stream",
     "text": [
      "Enter a number:dd\n",
      "Invalid input\n",
      "Enter a number:34\n",
      "Enter a number:done\n",
      "34.0 1 34.0\n"
     ]
    }
   ],
   "source": [
    "num = 0\n",
    "tot = 0.0\n",
    "while True:\n",
    "    sval = input('Enter a number:')\n",
    "    if sval == 'done':\n",
    "        break\n",
    "    try:\n",
    "        fval = float(sval)\n",
    "    except:\n",
    "        print('Invalid input')\n",
    "        continue\n",
    "        \n",
    "    num = num + 1\n",
    "    tot = tot + fval\n",
    "    \n",
    "print(tot, num, tot/num)"
   ]
  },
  {
   "cell_type": "code",
   "execution_count": null,
   "metadata": {},
   "outputs": [],
   "source": []
  }
 ],
 "metadata": {
  "kernelspec": {
   "display_name": "Python 3",
   "language": "python",
   "name": "python3"
  },
  "language_info": {
   "codemirror_mode": {
    "name": "ipython",
    "version": 3
   },
   "file_extension": ".py",
   "mimetype": "text/x-python",
   "name": "python",
   "nbconvert_exporter": "python",
   "pygments_lexer": "ipython3",
   "version": "3.5.2"
  }
 },
 "nbformat": 4,
 "nbformat_minor": 2
}
