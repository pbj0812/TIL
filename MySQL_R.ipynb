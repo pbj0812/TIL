{
 "cells": [
  {
   "cell_type": "code",
   "execution_count": 3,
   "metadata": {},
   "outputs": [],
   "source": [
    "library(RMySQL)"
   ]
  },
  {
   "cell_type": "code",
   "execution_count": 4,
   "metadata": {},
   "outputs": [],
   "source": [
    "con<-dbConnect(dbDriver(\"MySQL\"), dbname = \"database name\", user = \"root\", password = \"pwd\")"
   ]
  },
  {
   "cell_type": "code",
   "execution_count": 5,
   "metadata": {},
   "outputs": [],
   "source": [
    "result<- dbGetQuery(con, \"desc student_db;\")"
   ]
  },
  {
   "cell_type": "code",
   "execution_count": 6,
   "metadata": {},
   "outputs": [
    {
     "data": {
      "text/html": [
       "<table>\n",
       "<thead><tr><th scope=col>Field</th><th scope=col>Type</th><th scope=col>Null</th><th scope=col>Key</th><th scope=col>Default</th><th scope=col>Extra</th></tr></thead>\n",
       "<tbody>\n",
       "\t<tr><td>sno     </td><td>int(11) </td><td>NO      </td><td>PRI     </td><td>NA      </td><td>        </td></tr>\n",
       "\t<tr><td>name    </td><td>char(10)</td><td>YES     </td><td>        </td><td>NA      </td><td>        </td></tr>\n",
       "\t<tr><td>det     </td><td>char(20)</td><td>YES     </td><td>        </td><td>NA      </td><td>        </td></tr>\n",
       "\t<tr><td>addr    </td><td>char(80)</td><td>YES     </td><td>        </td><td>NA      </td><td>        </td></tr>\n",
       "\t<tr><td>tel     </td><td>char(20)</td><td>YES     </td><td>        </td><td>NA      </td><td>        </td></tr>\n",
       "</tbody>\n",
       "</table>\n"
      ],
      "text/latex": [
       "\\begin{tabular}{r|llllll}\n",
       " Field & Type & Null & Key & Default & Extra\\\\\n",
       "\\hline\n",
       "\t sno      & int(11)  & NO       & PRI      & NA       &         \\\\\n",
       "\t name     & char(10) & YES      &          & NA       &         \\\\\n",
       "\t det      & char(20) & YES      &          & NA       &         \\\\\n",
       "\t addr     & char(80) & YES      &          & NA       &         \\\\\n",
       "\t tel      & char(20) & YES      &          & NA       &         \\\\\n",
       "\\end{tabular}\n"
      ],
      "text/markdown": [
       "\n",
       "Field | Type | Null | Key | Default | Extra | \n",
       "|---|---|---|---|---|\n",
       "| sno      | int(11)  | NO       | PRI      | NA       |          | \n",
       "| name     | char(10) | YES      |          | NA       |          | \n",
       "| det      | char(20) | YES      |          | NA       |          | \n",
       "| addr     | char(80) | YES      |          | NA       |          | \n",
       "| tel      | char(20) | YES      |          | NA       |          | \n",
       "\n",
       "\n"
      ],
      "text/plain": [
       "  Field Type     Null Key Default Extra\n",
       "1 sno   int(11)  NO   PRI NA           \n",
       "2 name  char(10) YES      NA           \n",
       "3 det   char(20) YES      NA           \n",
       "4 addr  char(80) YES      NA           \n",
       "5 tel   char(20) YES      NA           "
      ]
     },
     "metadata": {},
     "output_type": "display_data"
    }
   ],
   "source": [
    "result"
   ]
  },
  {
   "cell_type": "code",
   "execution_count": null,
   "metadata": {},
   "outputs": [],
   "source": []
  }
 ],
 "metadata": {
  "kernelspec": {
   "display_name": "R",
   "language": "R",
   "name": "ir"
  },
  "language_info": {
   "codemirror_mode": "r",
   "file_extension": ".r",
   "mimetype": "text/x-r-source",
   "name": "R",
   "pygments_lexer": "r",
   "version": "3.4.3"
  }
 },
 "nbformat": 4,
 "nbformat_minor": 2
}
