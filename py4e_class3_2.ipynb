{
 "cells": [
  {
   "cell_type": "code",
   "execution_count": 1,
   "metadata": {},
   "outputs": [],
   "source": [
    "import socket"
   ]
  },
  {
   "cell_type": "code",
   "execution_count": 6,
   "metadata": {},
   "outputs": [],
   "source": [
    "mysock = socket.socket(socket.AF_INET, socket.SOCK_STREAM)\n",
    "mysock.connect( ('data.pr4e.org', 80) )"
   ]
  },
  {
   "cell_type": "code",
   "execution_count": 1,
   "metadata": {},
   "outputs": [],
   "source": [
    "import socket"
   ]
  },
  {
   "cell_type": "code",
   "execution_count": 4,
   "metadata": {},
   "outputs": [
    {
     "data": {
      "text/plain": [
       "47"
      ]
     },
     "execution_count": 4,
     "metadata": {},
     "output_type": "execute_result"
    }
   ],
   "source": [
    "mysock = socket.socket(socket.AF_INET, socket.SOCK_STREAM)\n",
    "mysock.connect(('data.pr4e.org', 80))\n",
    "cmd = 'GET http://data.pr4e.org/romeo.txt HTTP/1.0\\r\\n\\r\\n'.encode()\n",
    "mysock.send(cmd)"
   ]
  },
  {
   "cell_type": "code",
   "execution_count": 5,
   "metadata": {},
   "outputs": [
    {
     "name": "stdout",
     "output_type": "stream",
     "text": [
      "HTTP/1.1 200 OK\r\n",
      "Date: Sat, 26 May 2018 09:48:08 GMT\r\n",
      "Server: Apache/2.4.18 (Ubuntu)\r\n",
      "Last-Modified: Sat, 13 May 2017 11:22:22 GMT\r\n",
      "ETag: \"a7-54f6609245537\"\r\n",
      "Accept-Ranges: bytes\r\n",
      "Content-Length: 167\r\n",
      "Cache-Control: max-age=0, no-cache, no-store, must-revalidate\r\n",
      "Pragma: no-cache\r\n",
      "Expires: Wed, 11 Jan 1984 05:00:00 GMT\r\n",
      "Connection: close\r\n",
      "Content-Type: text/plain\r\n",
      "\r\n",
      "But soft what light through yonder window breaks\n",
      "It is the east and Juliet is the sun\n",
      "Arise fair sun and kill the envious moon\n",
      "Who is already sick and pale with grief\n"
     ]
    }
   ],
   "source": [
    "while True:\n",
    "    data = mysock.recv(512)\n",
    "    if(len(data) < 1):\n",
    "        break\n",
    "    print(data.decode(), end = '')\n",
    "mysock.close()"
   ]
  },
  {
   "cell_type": "code",
   "execution_count": 7,
   "metadata": {},
   "outputs": [
    {
     "name": "stdout",
     "output_type": "stream",
     "text": [
      "72\n",
      "101\n",
      "10\n"
     ]
    }
   ],
   "source": [
    "# ASCII\n",
    "print(ord('H'))\n",
    "print(ord('e'))\n",
    "print(ord('\\n'))"
   ]
  },
  {
   "cell_type": "code",
   "execution_count": 8,
   "metadata": {},
   "outputs": [
    {
     "name": "stdout",
     "output_type": "stream",
     "text": [
      "<class 'str'>\n",
      "<class 'str'>\n"
     ]
    }
   ],
   "source": [
    "x='이광춘'\n",
    "print(type(x))\n",
    "x=u'이광춘'\n",
    "print(type(x))"
   ]
  },
  {
   "cell_type": "code",
   "execution_count": 9,
   "metadata": {},
   "outputs": [
    {
     "data": {
      "text/plain": [
       "b'GET http://data.pr4e.org/romeo.txt HTTP/1.0\\n\\n'"
      ]
     },
     "execution_count": 9,
     "metadata": {},
     "output_type": "execute_result"
    }
   ],
   "source": [
    "'GET http://data.pr4e.org/romeo.txt HTTP/1.0\\n\\n'.encode()"
   ]
  },
  {
   "cell_type": "code",
   "execution_count": 10,
   "metadata": {},
   "outputs": [
    {
     "data": {
      "text/plain": [
       "45"
      ]
     },
     "execution_count": 10,
     "metadata": {},
     "output_type": "execute_result"
    }
   ],
   "source": [
    "import socket\n",
    "\n",
    "mysock = socket.socket(socket.AF_INET, socket.SOCK_STREAM)\n",
    "mysock.connect(('data.pr4e.org', 80))\n",
    "cmd = 'GET http://data.pr4e.org/romeo.txt HTTP/1.0\\n\\n'.encode()\n",
    "mysock.send(cmd)"
   ]
  },
  {
   "cell_type": "code",
   "execution_count": 11,
   "metadata": {},
   "outputs": [
    {
     "name": "stdout",
     "output_type": "stream",
     "text": [
      "HTTP/1.1 400 Bad Request\r\n",
      "Date: Sat, 26 May 2018 16:10:34 GMT\r\n",
      "Server: Apache/2.4.18 (Ubuntu)\r\n",
      "Content-Length: 308\r\n",
      "Connection: close\r\n",
      "Content-Type: text/html; charset=iso-8859-1\r\n",
      "\r\n",
      "<!DOCTYPE HTML PUBLIC \"-//IETF//DTD HTML 2.0//EN\">\n",
      "<html><head>\n",
      "<title>400 Bad Request</title>\n",
      "</head><body>\n",
      "<h1>Bad Request</h1>\n",
      "<p>Your browser sent a request that this server could not understand.<br />\n",
      "</p>\n",
      "<hr>\n",
      "<address>Apache/2.4.18 (Ubuntu) Server at do1.dr-chuck.com Port 80</address>\n",
      "</body></html>\n",
      "\n"
     ]
    }
   ],
   "source": [
    "while True:\n",
    "    data = mysock.recv(512)\n",
    "    if (len(data) < 1):\n",
    "        break\n",
    "    print(data.decode())\n",
    "mysock.close()"
   ]
  },
  {
   "cell_type": "code",
   "execution_count": 12,
   "metadata": {},
   "outputs": [
    {
     "name": "stdout",
     "output_type": "stream",
     "text": [
      "But soft what light through yonder window breaks\n",
      "It is the east and Juliet is the sun\n",
      "Arise fair sun and kill the envious moon\n",
      "Who is already sick and pale with grief\n"
     ]
    }
   ],
   "source": [
    "import urllib.request, urllib.parse, urllib.error\n",
    "\n",
    "fhand = urllib.request.urlopen('http://data.pr4e.org/romeo.txt')\n",
    "for line in fhand:\n",
    "    print(line.decode().strip())"
   ]
  },
  {
   "cell_type": "code",
   "execution_count": 14,
   "metadata": {},
   "outputs": [
    {
     "name": "stdout",
     "output_type": "stream",
     "text": [
      "{'window': 1, 'It': 1, 'sun': 2, 'Arise': 1, 'already': 1, 'sick': 1, 'what': 1, 'kill': 1, 'fair': 1, 'east': 1, 'breaks': 1, 'light': 1, 'yonder': 1, 'pale': 1, 'But': 1, 'is': 3, 'through': 1, 'envious': 1, 'with': 1, 'the': 3, 'Juliet': 1, 'Who': 1, 'grief': 1, 'moon': 1, 'and': 3, 'soft': 1}\n"
     ]
    }
   ],
   "source": [
    "import urllib.request, urllib.parse, urllib.error\n",
    "\n",
    "fhand = urllib.request.urlopen('http://data.pr4e.org/romeo.txt')\n",
    "\n",
    "counts = dict()\n",
    "for line in fhand:\n",
    "    words = line.decode().split()\n",
    "    for word in words:\n",
    "        counts[word] = counts.get(word, 0) + 1\n",
    "print(counts)"
   ]
  },
  {
   "cell_type": "code",
   "execution_count": 16,
   "metadata": {},
   "outputs": [
    {
     "name": "stdout",
     "output_type": "stream",
     "text": [
      "<h1>The First Page</h1>\n",
      "<p>\n",
      "If you like, you can switch to the\n",
      "<a href=\"http://www.dr-chuck.com/page2.htm\">\n",
      "Second Page</a>.\n",
      "</p>\n"
     ]
    }
   ],
   "source": [
    "import urllib.request, urllib.parse, urllib.error\n",
    "\n",
    "fhand = urllib.request.urlopen('http://www.dr-chuck.com/page1.htm')\n",
    "for line in fhand:\n",
    "    print(line.decode().strip())"
   ]
  },
  {
   "cell_type": "code",
   "execution_count": 6,
   "metadata": {},
   "outputs": [
    {
     "name": "stdout",
     "output_type": "stream",
     "text": [
      "Enter - http://www.facebook.com\n",
      "#\n",
      "#\n",
      "https://www.facebook.com/\n",
      "https://www.facebook.com/recover/initiate?lwv=110\n",
      "#\n",
      "/legal/terms/update\n",
      "/about/privacy/update\n",
      "/policies/cookies/\n",
      "https://www.facebook.com/about/privacy/update?ref=old_policy\n",
      "/about/basics\n",
      "/help/1561485474074139\n",
      "/help/1561485474074139\n",
      "https://research.facebook.com/\n",
      "/about/privacy/update#what-kinds-of-information-do-we-collect\n",
      "/about/ads/#568137493302217\n",
      "/about/ads\n",
      "/help/379220725465972\n",
      "/policies/cookies/\n",
      "/help/203805466323736\n",
      "/help/203805466323736\n",
      "/notes/facebook-safety/details-on-social-reporting/196124227075034\n",
      "/help/211813265517027\n",
      "/help/203805466323736\n",
      "/settings?tab=applications\n",
      "/help/111814505650678\n",
      "/ad_guidelines.php\n",
      "/help/769828729705201/\n",
      "/me/allactivity\n",
      "/help/405183566203254/\n",
      "/help/125338004213029\n",
      "https://l.facebook.com/l.php?u=https%3A%2F%2Ffeedback-form.truste.com%2Fwatchdog%2Frequest&h=ATM2VX0-hHE_H1xaSbTWJr6AlwQgW4urDwExEJlxLBjtXStKKdejuLqx1Anl4FOMb8Zr_dx5lOt9BJPRu7Jj0oCXo-AGrs1Axi7VC43E8lSJgmtjauO71xny38j0FnOb\n",
      "/about/basics\n",
      "/help/contact/173545232710000\n",
      "/help/contact/173545232710000\n",
      "https://www.facebook.com/legal/terms/update?ref=old_policy\n",
      "https://www.facebook.com/principles.php\n",
      "/help/1561485474074139\n",
      "/help/1561485474074139\n",
      "/about/privacy/\n",
      "/about/privacy/\n",
      "/settings/?tab=privacy\n",
      "/settings/?tab=applications\n",
      "/settings/?tab=privacy\n",
      "/settings/?tab=applications\n",
      "/about/privacy/\n",
      "https://developers.facebook.com/docs/\n",
      "/help/399224883474207\n",
      "https://www.facebook.com/payments_terms\n",
      "https://developers.facebook.com/policy\n",
      "/legal/self_service_ads_terms\n",
      "/ad_guidelines.php\n",
      "https://www.facebook.com/page_guidelines.php\n",
      "https://www.facebook.com/terms/provisions/german/index.php\n",
      "https://l.facebook.com/l.php?u=https%3A%2F%2Fwww.facebookbrand.com%2Ftrademarks%2F&h=ATMv8vY7eBklD23NZrHW13vmF9mVFaH1qrP77AP5Onq2Xggp1QzHqNDxwytlD9gmu9li2_5oId8-jyy4VoAmaBNB-NxGSy7lwnOBTqZ5jUZFnteCybQ63qW5HW4j-_sR\n",
      "/about/privacy/\n",
      "https://www.facebook.com/payments_terms\n",
      "/platform\n",
      "https://developers.facebook.com/policy/\n",
      "/ad_guidelines.php\n",
      "/legal/self_service_ads_terms\n",
      "/page_guidelines.php#promotionsguidelines\n",
      "https://l.facebook.com/l.php?u=https%3A%2F%2Fwww.facebookbrand.com%2F&h=ATPA_R7ngujU9bREZ_iy_mCRAFhbQ8h6oia3hg8naQUfMUS8faZ5HAXJRFgN7OlxaikOLcd6YmbMHWHmxJe2y6V5TSpGpwCAf5EJJ8idy2wLGS1oyWs56QRVDN7z9SsN\n",
      "/help/399224883474207\n",
      "https://www.facebook.com/page_guidelines.php\n",
      "/communitystandards\n",
      "/about/location\n",
      "/help/325807937506242\n",
      "/help/256333951065527\n",
      "#\n",
      "/pages/create/?ref_type=registration_form\n",
      "https://www.facebook.com/\n",
      "https://vi-vn.facebook.com/\n",
      "https://id-id.facebook.com/\n",
      "https://th-th.facebook.com/\n",
      "https://es-la.facebook.com/\n",
      "https://zh-cn.facebook.com/\n",
      "https://ja-jp.facebook.com/\n",
      "https://pt-br.facebook.com/\n",
      "https://fr-fr.facebook.com/\n",
      "https://de-de.facebook.com/\n",
      "#\n",
      "/r.php\n",
      "/login/\n",
      "https://messenger.com/\n",
      "/lite/\n",
      "/mobile/?ref=pf\n",
      "/find-friends?ref=pf\n",
      "/directory/people/\n",
      "/directory/pages/\n",
      "/places/\n",
      "/games/\n",
      "/directory/places/\n",
      "/directory/marketplace/\n",
      "/directory/pages_videos/\n",
      "/directory/groups/\n",
      "/recipes/\n",
      "/sport/\n",
      "/look/directory/\n",
      "http://l.facebook.com/l.php?u=http%3A%2F%2Fmomentsapp.com%2F&h=ATOQef4dXu0oWAutiZQBTRg_8JhbtU34dgK0r04hvLVeSSMC0uEzbqWYb3aZDcES2bnoaGjvwWQ9RT462IljVga26PB9CWyQ2oIXfucqfEJSP0ITqod_dlIWt56If3EI\n",
      "https://l.facebook.com/l.php?u=https%3A%2F%2Finstagram.com%2F&h=ATOv5qb5ZnzxKh0hV9eB0vlA7L5lSpa1ku0aQKUGNu63vIz6F4HHWuLyd4dKm5BPxHNGZ3OnbP0lRxid37slP1yYKNtupwJ8zK0zxgxcQf4whJsbcSDirWGh-tfEwPMy\n",
      "/local/lists/245019872666104/\n",
      "/facebook\n",
      "/ad_campaign/landing.php?placement=pflo&campaign_id=402047449186&extra_1=auto\n",
      "/pages/create/?ref_type=sitefooter\n",
      "https://developers.facebook.com/?ref=pf\n",
      "/careers/?ref=pf\n",
      "/privacy/explanation\n",
      "/policies/cookies/\n",
      "https://www.facebook.com/help/568137493302217\n",
      "/policies?ref=pf\n",
      "/help/?ref=pf\n",
      "/settings\n",
      "/allactivity?privacy_source=activity_log_top_menu\n"
     ]
    }
   ],
   "source": [
    "import urllib.request, urllib.parse, urllib.error\n",
    "from bs4 import BeautifulSoup\n",
    "\n",
    "url = input('Enter - ')\n",
    "html = urllib.request.urlopen(url).read()\n",
    "soup = BeautifulSoup(html, 'html.parser')\n",
    "\n",
    "# Retrieve all of the anchor tags\n",
    "tags = soup('a')\n",
    "for tag in tags:\n",
    "    print(tag.get('href', None))"
   ]
  },
  {
   "cell_type": "code",
   "execution_count": 5,
   "metadata": {},
   "outputs": [
    {
     "name": "stdout",
     "output_type": "stream",
     "text": [
      "Enter - http://www.dr-chuck.com/\n",
      "https://www.dr-chuck.com/csev-blog/\n",
      "https://www.si.umich.edu/\n",
      "https://www.ratemyprofessors.com/ShowRatings.jsp?tid=1159280\n",
      "https://www.dr-chuck.com/csev-blog/\n",
      "https://www.twitter.com/drchuck/\n",
      "https://www.dr-chuck.com/dr-chuck/resume/speaking.htm\n",
      "https://www.slideshare.net/csev\n",
      "/dr-chuck/resume/index.htm\n",
      "https://amzn.to/1K5Q81K\n",
      "http://afs.dr-chuck.com/papers/\n",
      "https://itunes.apple.com/us/podcast/computing-conversations/id731495760\n",
      "https://www.youtube.com/playlist?list=PLHJB2bhmgB7dFuY7HmrXLj5BmHGKTD-3R\n",
      "https://developers.imsglobal.org/\n",
      "https://www.youtube.com/user/csev\n",
      "https://vimeo.com/drchuck/videos\n",
      "https://backpack.openbadges.org/share/4f76699ddb399d162a00b89a452074b3/\n",
      "https://www.linkedin.com/in/charlesseverance/\n",
      "https://www.researchgate.net/profile/Charles_Severance/\n",
      "https://www.tsugicloud.org/\n",
      "/office\n",
      "https://www.coursera.org/course/pythonlearn\n",
      "https://www.coursera.org/course/insidetheinternet\n",
      "https://open.umich.edu/education/si/si502/winter2009/\n",
      "http://www.pythonlearn.com\n",
      "http://www.php-intro.com/\n",
      "http://www.appenginelearn.com/\n",
      "http://www.pythonlearn.com/\n",
      "/sakai-book\n",
      "http://www.amazon.com/gp/product/1624311393/ref=as_li_ss_tl?ie=UTF8&camp=1789&creative=390957&creativeASIN=1624311393&linkCode=as2&tag=drchu02-20\n",
      "http://www.amazon.com/gp/product/059680069X/ref=as_li_ss_tl?ie=UTF8&camp=1789&creative=390957&creativeASIN=059680069X&linkCode=as2&tag=drchu02-20\n",
      "http://www.amazon.com/Performance-Computing-Architectures-Optimization-Benchmarks/dp/156592312X/\n",
      "http://oreilly.com/catalog/9781565923126/\n",
      "http://cnx.org/content/col11136/latest/\n",
      "http://www.youtube.com/playlist?list=PLHJB2bhmgB7dFuY7HmrXLj5BmHGKTD-3R\n",
      "https://www.vimeo.com/17207620\n",
      "https://www.youtube.com/watch?v=BVKpW02hsrU\n",
      "https://www.youtube.com/watch?v=sa2WsgCvn7c\n",
      "https://www.vimeo.com/17213019\n",
      "https://www.youtube.com/watch?v=FJ078sO35M0\n",
      "http://afs.dr-chuck.com/citoolkit\n",
      "https://www.sakaiproject.org/\n",
      "https://www.tsugi.org/\n",
      "https://developers.imsglobal.org/\n",
      "/obi-sample\n",
      "https://twitter.com/drchuck\n"
     ]
    }
   ],
   "source": [
    "# To run this, you can install BeautifulSoup\n",
    "# https://pypi.python.org/pypi/beautifulsoup4\n",
    "\n",
    "# Or download the file\n",
    "# http://www.py4e.com/code3/bs4.zip\n",
    "# and unzip it in the same directory as this file\n",
    "\n",
    "import urllib.request, urllib.parse, urllib.error\n",
    "from bs4 import BeautifulSoup\n",
    "import ssl\n",
    "\n",
    "# Ignore SSL certificate errors\n",
    "ctx = ssl.create_default_context()\n",
    "ctx.check_hostname = False\n",
    "ctx.verify_mode = ssl.CERT_NONE\n",
    "\n",
    "url = input('Enter - ')\n",
    "html = urllib.request.urlopen(url, context=ctx).read()\n",
    "soup = BeautifulSoup(html, 'html.parser')\n",
    "\n",
    "# Retrieve all of the anchor tags\n",
    "tags = soup('a')\n",
    "for tag in tags:\n",
    "    print(tag.get('href', None))"
   ]
  },
  {
   "cell_type": "code",
   "execution_count": null,
   "metadata": {},
   "outputs": [],
   "source": []
  }
 ],
 "metadata": {
  "kernelspec": {
   "display_name": "Python 3",
   "language": "python",
   "name": "python3"
  }
 },
 "nbformat": 4,
 "nbformat_minor": 2
}
